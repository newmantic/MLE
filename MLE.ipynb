{
  "nbformat": 4,
  "nbformat_minor": 0,
  "metadata": {
    "colab": {
      "provenance": [],
      "authorship_tag": "ABX9TyMkQG4uFnpvVOw+PgcEP+Kj",
      "include_colab_link": true
    },
    "kernelspec": {
      "name": "python3",
      "display_name": "Python 3"
    },
    "language_info": {
      "name": "python"
    }
  },
  "cells": [
    {
      "cell_type": "markdown",
      "metadata": {
        "id": "view-in-github",
        "colab_type": "text"
      },
      "source": [
        "<a href=\"https://colab.research.google.com/github/newmantic/MLE/blob/main/MLE.ipynb\" target=\"_parent\"><img src=\"https://colab.research.google.com/assets/colab-badge.svg\" alt=\"Open In Colab\"/></a>"
      ]
    },
    {
      "cell_type": "code",
      "execution_count": 1,
      "metadata": {
        "colab": {
          "base_uri": "https://localhost:8080/"
        },
        "id": "g1t7Qj3ugvxR",
        "outputId": "b66710cc-01b1-4418-b3c9-07e866fcec0f"
      },
      "outputs": [
        {
          "output_type": "stream",
          "name": "stdout",
          "text": [
            "Estimated mu: 4.32857141782372, Estimated sigma: 1.9476832553639412\n"
          ]
        }
      ],
      "source": [
        "import numpy as np\n",
        "from scipy.optimize import minimize\n",
        "\n",
        "def mle_normal(data):\n",
        "    \"\"\"\n",
        "    Perform Maximum Likelihood Estimation for a Normal distribution.\n",
        "\n",
        "    Parameters:\n",
        "    data (list or np.ndarray): Sample data.\n",
        "\n",
        "    Returns:\n",
        "    tuple: Estimated mean (mu) and standard deviation (sigma).\n",
        "    \"\"\"\n",
        "    n = len(data)\n",
        "\n",
        "    # Negative log-likelihood function for normal distribution\n",
        "    def neg_log_likelihood(params):\n",
        "        mu, sigma = params[0], params[1]\n",
        "        if sigma <= 0:  # sigma must be positive\n",
        "            return np.inf\n",
        "        log_likelihood = -n/2 * np.log(2 * np.pi) - n/2 * np.log(sigma**2) - 1/(2*sigma**2) * np.sum((data - mu)**2)\n",
        "        return -log_likelihood\n",
        "\n",
        "    # Initial guesses for mu and sigma\n",
        "    initial_params = [np.mean(data), np.std(data, ddof=1)]\n",
        "\n",
        "    # Minimize the negative log-likelihood\n",
        "    result = minimize(neg_log_likelihood, initial_params, bounds=[(None, None), (1e-6, None)])\n",
        "    mu_mle, sigma_mle = result.x\n",
        "    return mu_mle, sigma_mle\n",
        "\n",
        "# Testable example:\n",
        "data = [1.3, 2.7, 3.1, 4.2, 5.8, 6.0, 7.2]\n",
        "mu_mle, sigma_mle = mle_normal(data)\n",
        "print(f\"Estimated mu: {mu_mle}, Estimated sigma: {sigma_mle}\")"
      ]
    },
    {
      "cell_type": "code",
      "source": [
        "def mle_exponential(data):\n",
        "    \"\"\"\n",
        "    Perform Maximum Likelihood Estimation for an Exponential distribution.\n",
        "\n",
        "    Parameters:\n",
        "    data (list or np.ndarray): Sample data.\n",
        "\n",
        "    Returns:\n",
        "    float: Estimated rate parameter (lambda).\n",
        "    \"\"\"\n",
        "    # Negative log-likelihood function for exponential distribution\n",
        "    def neg_log_likelihood(lmbda):\n",
        "        if lmbda <= 0:  # lambda must be positive\n",
        "            return np.inf\n",
        "        n = len(data)\n",
        "        log_likelihood = n * np.log(lmbda) - lmbda * np.sum(data)\n",
        "        return -log_likelihood\n",
        "\n",
        "    # Initial guess for lambda\n",
        "    initial_lambda = 1 / np.mean(data)\n",
        "\n",
        "    # Minimize the negative log-likelihood\n",
        "    result = minimize(neg_log_likelihood, initial_lambda, bounds=[(1e-6, None)])\n",
        "    lambda_mle = result.x[0]\n",
        "    return lambda_mle\n",
        "\n",
        "# Testable example:\n",
        "data = [0.5, 1.7, 2.2, 0.9, 3.1, 4.2]\n",
        "lambda_mle = mle_exponential(data)\n",
        "print(f\"Estimated lambda: {lambda_mle}\")"
      ],
      "metadata": {
        "colab": {
          "base_uri": "https://localhost:8080/"
        },
        "id": "kbJtXIj5hBDu",
        "outputId": "f4c2a8b4-415f-4528-a597-f2f0a5e9e013"
      },
      "execution_count": 2,
      "outputs": [
        {
          "output_type": "stream",
          "name": "stdout",
          "text": [
            "Estimated lambda: 0.47619047619047616\n"
          ]
        }
      ]
    }
  ]
}